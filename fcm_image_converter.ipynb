{
 "cells": [
  {
   "cell_type": "code",
   "execution_count": 1,
   "id": "0f726f26",
   "metadata": {},
   "outputs": [
    {
     "name": "stdout",
     "output_type": "stream",
     "text": [
      "3GCNAAED5RG272606_FCM_AtEvent2.PGM -> 3GCNAAED5RG272606_FCM_AtEvent2.jpg\n",
      "3GCNAAED5RG272606_FCM_PostEvent2.PGM -> 3GCNAAED5RG272606_FCM_PostEvent2.jpg\n",
      "3GCNAAED5RG272606_FCM_PreEvent2.PGM -> 3GCNAAED5RG272606_FCM_PreEvent2.jpg\n",
      "Done.\n"
     ]
    }
   ],
   "source": [
    "from pathlib import Path\n",
    "from PIL import Image\n",
    "\n",
    "def flip_tb(im: Image.Image) -> Image.Image:\n",
    "    \"\"\"Flip image top↔bottom with Pillow version compatibility.\"\"\"\n",
    "    try:\n",
    "        return im.transpose(Image.Transpose.FLIP_TOP_BOTTOM)  # Pillow ≥ 9.1\n",
    "    except AttributeError:\n",
    "        return im.transpose(Image.FLIP_TOP_BOTTOM)            # Older Pillow\n",
    "\n",
    "def ensure_jpeg_mode(im: Image.Image) -> Image.Image:\n",
    "    \"\"\"\n",
    "    JPEG requires 8-bit 'L' or 'RGB'. Convert uncommon modes safely.\n",
    "    - 16-bit grayscale (I;16) → L\n",
    "    - Paletted (P) or others → RGB\n",
    "    \"\"\"\n",
    "    if im.mode in (\"L\", \"RGB\"):\n",
    "        return im\n",
    "    if im.mode in (\"I;16\", \"I\"):\n",
    "        return im.convert(\"L\")\n",
    "    return im.convert(\"RGB\")\n",
    "\n",
    "# ---- configure paths ----\n",
    "input_folder = Path(r\"C:\\Users\\Craig UHES\\OneDrive - U-Haul International\\Investigations\\2025\\FS\\06122025 03959499-2025 BP Queen Creek\\Pre Crash Data\\Event 2\")\n",
    "output_folder = input_folder / \"converted_jpg\"\n",
    "output_folder.mkdir(exist_ok=True)\n",
    "\n",
    "# ---- process ----\n",
    "for pgm in input_folder.glob(\"*.pgm\"):\n",
    "    try:\n",
    "        with Image.open(pgm) as im:\n",
    "            im = ensure_jpeg_mode(im)\n",
    "            im = flip_tb(im)\n",
    "            out = output_folder / (pgm.stem + \".jpg\")\n",
    "            im.save(out, \"JPEG\", quality=95, optimize=True)\n",
    "            print(f\"{pgm.name} -> {out.name}\")\n",
    "    except Exception as e:\n",
    "        print(f\"Failed on {pgm}: {e}\")\n",
    "\n",
    "print(\"Done.\")"
   ]
  }
 ],
 "metadata": {
  "kernelspec": {
   "display_name": "Python 3",
   "language": "python",
   "name": "python3"
  },
  "language_info": {
   "codemirror_mode": {
    "name": "ipython",
    "version": 3
   },
   "file_extension": ".py",
   "mimetype": "text/x-python",
   "name": "python",
   "nbconvert_exporter": "python",
   "pygments_lexer": "ipython3",
   "version": "3.10.6"
  }
 },
 "nbformat": 4,
 "nbformat_minor": 5
}
